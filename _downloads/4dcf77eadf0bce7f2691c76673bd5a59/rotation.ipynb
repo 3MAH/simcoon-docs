{
  "cells": [
    {
      "cell_type": "markdown",
      "metadata": {},
      "source": [
        "\n# Rotation library Examples\n"
      ]
    },
    {
      "cell_type": "code",
      "execution_count": null,
      "metadata": {
        "collapsed": false
      },
      "outputs": [],
      "source": [
        "import numpy as np\nimport matplotlib.pyplot as plt\nfrom scipy.spatial.transform import Rotation as R\nfrom simcoon import simmit as sim\nimport os"
      ]
    },
    {
      "cell_type": "markdown",
      "metadata": {},
      "source": [
        "## Rotation API Examples\nThese examples demonstrate the main rotation functions available in simcoon.\n\n"
      ]
    },
    {
      "cell_type": "code",
      "execution_count": null,
      "metadata": {
        "collapsed": false
      },
      "outputs": [],
      "source": [
        "v = np.array([1.0, 0.0, 0.0])\nm = np.eye(3)\nangle = np.pi / 4  # 45 degrees\naxis = 2  # y-axis (1=x, 2=y, 3=z)\ncopy = True\nactive = True"
      ]
    },
    {
      "cell_type": "markdown",
      "metadata": {},
      "source": [
        "1. Rotate vector using rotation matrix\n --------------------------------------\n This example shows how to build a rotation matrix and rotate a vector.\n It uses sim.fillR_angle and sim.rotate_vec_R.\n#############################\n\n"
      ]
    },
    {
      "cell_type": "code",
      "execution_count": null,
      "metadata": {
        "collapsed": false
      },
      "outputs": [],
      "source": [
        "Rmat = sim.fillR_angle(angle, axis, active, copy)\nv_rot1 = sim.rotate_vec_R(v, Rmat, copy)\nprint(\"Rotated vector (using R):\", v_rot1)\nprint(\"Rotation matrix (using R):\", Rmat)"
      ]
    },
    {
      "cell_type": "markdown",
      "metadata": {},
      "source": [
        "2. Rotate vector using angle/axis\n --------------------------------------\n This example shows how to rotate a vector using an angle and an axis directly.\n It uses sim.rotate_vec_angle.\n#############################\n\n"
      ]
    },
    {
      "cell_type": "code",
      "execution_count": null,
      "metadata": {
        "collapsed": false
      },
      "outputs": [],
      "source": [
        "v_rot2 = sim.rotate_vec_angle(v, angle, axis, copy)\nprint(\"Rotated vector (using angle/axis):\", v_rot2)"
      ]
    },
    {
      "cell_type": "markdown",
      "metadata": {},
      "source": [
        "3. Rotate matrix using rotation matrix\n --------------------------------------\n This example shows how to rotate a matrix using a rotation matrix.\n It uses sim.fillR_angle and sim.rotate_mat_R.\n#############################\n\n"
      ]
    },
    {
      "cell_type": "code",
      "execution_count": null,
      "metadata": {
        "collapsed": false
      },
      "outputs": [],
      "source": [
        "m_rot1 = sim.rotate_mat_R(m, Rmat, copy)\nprint(\"Rotated matrix (using R):\\n\", m_rot1)"
      ]
    },
    {
      "cell_type": "markdown",
      "metadata": {},
      "source": [
        "4. Rotate matrix using angle/axis\n --------------------------------------\n This example shows how to rotate a matrix using an angle and an axis directly.\n It uses sim.rotate_mat_angle.\n#############################\n\n"
      ]
    },
    {
      "cell_type": "code",
      "execution_count": null,
      "metadata": {
        "collapsed": false
      },
      "outputs": [],
      "source": [
        "m_rot2 = sim.rotate_mat_angle(m, angle, axis, copy)\nprint(\"Rotated matrix (using angle/axis):\\n\", m_rot2)"
      ]
    },
    {
      "cell_type": "markdown",
      "metadata": {},
      "source": [
        "5. Fill rotation matrix from Euler angles\n --------------------------------------\n This example shows how to create a rotation matrix from Euler angles.\n It uses sim.fillR_euler.\n#############################\n\n"
      ]
    },
    {
      "cell_type": "code",
      "execution_count": null,
      "metadata": {
        "collapsed": false
      },
      "outputs": [],
      "source": [
        "psi, theta, phi = np.pi / 6, np.pi / 4, np.pi / 3\nR_euler = sim.fillR_euler(psi, theta, phi, active, \"zxz\", copy)\nprint(\"Rotation matrix from Euler angles (zxz):\\n\", R_euler)"
      ]
    },
    {
      "cell_type": "markdown",
      "metadata": {},
      "source": [
        "## Rotation of mechanical quantities\nThese examples demonstrate how to rotate mechanical quantities such as stress, strain, and stiffness matrices using simcoon.\n\n"
      ]
    },
    {
      "cell_type": "markdown",
      "metadata": {},
      "source": [
        "6. Rotate stress vector (single and batch)\n --------------------------------------\n This example shows how to rotate stress vectors using sim.rotate_stress_angle.\n It demonstrates both single vector and batch processing.\n#############################\n\n"
      ]
    },
    {
      "cell_type": "code",
      "execution_count": null,
      "metadata": {
        "collapsed": false
      },
      "outputs": [],
      "source": [
        "stress = np.array([1, 2, 3, 4, 5, 6], dtype=float)\nstress_batch = np.stack([stress, stress * 2], axis=1)\nrot_stress1 = sim.rotate_stress_angle(stress, angle, axis, active, copy)\nrot_stress2 = sim.rotate_stress_angle(stress_batch, angle, axis, active, copy)\nprint(\"Rotated stress (single):\", rot_stress1)\nprint(\"Rotated stress (batch):\\n\", rot_stress2)"
      ]
    },
    {
      "cell_type": "markdown",
      "metadata": {},
      "source": [
        "7. Rotate strain vector (single and batch)\n --------------------------------------\n This example shows how to rotate strain vectors using sim.rotate_strain_angle.\n It demonstrates both single vector and batch processing.\n#############################\n\n"
      ]
    },
    {
      "cell_type": "code",
      "execution_count": null,
      "metadata": {
        "collapsed": false
      },
      "outputs": [],
      "source": [
        "strain = np.array([0.1, 0.2, 0.3, 0.4, 0.5, 0.6], dtype=float)\nstrain_batch = np.stack([strain, strain * 2], axis=1)\nrot_strain1 = sim.rotate_strain_angle(strain, angle, axis, active, copy)\nrot_strain2 = sim.rotate_strain_angle(strain_batch, angle, axis, active, copy)\nprint(\"Rotated strain (single):\", rot_strain1)\nprint(\"Rotated strain (batch):\\n\", rot_strain2)"
      ]
    },
    {
      "cell_type": "markdown",
      "metadata": {},
      "source": [
        "8. Rotate stiffness matrix (L)\n --------------------------------------\n This example shows how to rotate a stiffness matrix using both angle/axis and rotation matrix methods\n#############################\n\n"
      ]
    },
    {
      "cell_type": "code",
      "execution_count": null,
      "metadata": {
        "collapsed": false
      },
      "outputs": [],
      "source": [
        "L6 = np.eye(6)\nrotL1 = sim.rotateL_angle(L6, angle, axis, active, copy)\nrotL2 = sim.rotateL_R(L6, Rmat, active, copy)\nprint(\"Rotated L (angle):\\n\", rotL1)\nprint(\"Rotated L (R):\\n\", rotL2)"
      ]
    },
    {
      "cell_type": "markdown",
      "metadata": {},
      "source": [
        "9. Rotate compliance matrix (M)\n --------------------------------------\n This example shows how to rotate a compliance matrix using both angle/axis and rotation matrix methods\n#############################\n\n"
      ]
    },
    {
      "cell_type": "code",
      "execution_count": null,
      "metadata": {
        "collapsed": false
      },
      "outputs": [],
      "source": [
        "M6 = np.eye(6)\nrotM1 = sim.rotateM_angle(M6, angle, axis, active, copy)\nrotM2 = sim.rotateM_R(M6, Rmat, active, copy)\nprint(\"Rotated M (angle):\\n\", rotM1)\nprint(\"Rotated M (R):\\n\", rotM2)"
      ]
    },
    {
      "cell_type": "markdown",
      "metadata": {},
      "source": [
        "10. Rotate strain concentration matrix (A)\n --------------------------------------\n This example shows how to rotate a strain concentration matrix using both angle/axis and rotation matrix\n methods\n#############################\n\n"
      ]
    },
    {
      "cell_type": "code",
      "execution_count": null,
      "metadata": {
        "collapsed": false
      },
      "outputs": [],
      "source": [
        "A6 = np.eye(6)\nrotA1 = sim.rotateA_angle(A6, angle, axis, active, copy)\nrotA2 = sim.rotateA_R(A6, Rmat, active, copy)\nprint(\"Rotated A (angle):\\n\", rotA1)\nprint(\"Rotated A (R):\\n\", rotA2)"
      ]
    },
    {
      "cell_type": "markdown",
      "metadata": {},
      "source": [
        "11. Rotate stress concentration matrix (B)\n --------------------------------------\n This example shows how to rotate a stress concentration matrix using both angle/axis and rotation matrix\n methods\n#############################\n\n"
      ]
    },
    {
      "cell_type": "code",
      "execution_count": null,
      "metadata": {
        "collapsed": false
      },
      "outputs": [],
      "source": [
        "B6 = np.eye(6)\nrotB1 = sim.rotateB_angle(B6, angle, axis, active, copy)\nrotB2 = sim.rotateB_R(B6, Rmat, active, copy)\nprint(\"Rotated B (angle):\\n\", rotB1)\nprint(\"Rotated B (R):\\n\", rotB2)"
      ]
    },
    {
      "cell_type": "markdown",
      "metadata": {},
      "source": [
        "12. Rotation of a cubic stiffness tensor\n --------------------------------------\n Provides the elastic stiffness tensor for a cubic material and rotate it\n#############################\n\n"
      ]
    },
    {
      "cell_type": "code",
      "execution_count": null,
      "metadata": {
        "collapsed": false
      },
      "outputs": [],
      "source": [
        "E = 70000.0\nnu = 0.3\nG = 23000.0\nL = sim.L_cubic([E, nu, G], \"EnuG\")\nprint(np.array_str(L, precision=2, suppress_small=True))\n\nd = sim.check_symetries(L, 1.0e-2)\nprint(d[\"umat_type\"])\nprint(d[\"props\"])\n\nx = sim.L_cubic_props(L)\nprint(x)\n\nalpha = np.pi / 4.0\n\nrot_matrix = np.array(\n    [[np.cos(alpha), -np.sin(alpha), 0.0], [np.sin(alpha), np.cos(alpha), 0], [0, 0, 1]]\n)\n# print(R)\n\nL_rotate = sim.rotateL_R(L, rot_matrix)\nL_rotate_angle = sim.rotateL_angle(L, alpha, axis=3)\n\nprint(np.array_str(L_rotate, suppress_small=True))\nprint(np.array_str(L_rotate_angle, suppress_small=True))"
      ]
    }
  ],
  "metadata": {
    "kernelspec": {
      "display_name": "Python 3",
      "language": "python",
      "name": "python3"
    },
    "language_info": {
      "codemirror_mode": {
        "name": "ipython",
        "version": 3
      },
      "file_extension": ".py",
      "mimetype": "text/x-python",
      "name": "python",
      "nbconvert_exporter": "python",
      "pygments_lexer": "ipython3",
      "version": "3.12.12"
    }
  },
  "nbformat": 4,
  "nbformat_minor": 0
}
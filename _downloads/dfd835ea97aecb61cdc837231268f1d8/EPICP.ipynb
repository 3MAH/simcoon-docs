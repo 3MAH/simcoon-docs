{
  "cells": [
    {
      "cell_type": "markdown",
      "metadata": {},
      "source": [
        "\n# Plasticity with isotropic hardening example\n"
      ]
    },
    {
      "cell_type": "code",
      "execution_count": null,
      "metadata": {
        "collapsed": false
      },
      "outputs": [],
      "source": [
        "import pylab\nimport numpy as np\nimport matplotlib.pyplot as plt\nfrom simcoon import simmit as sim\nimport os\n\nplt.rcParams[\"figure.figsize\"] = (18, 10)  # configure the figure output size\ndir = os.path.dirname(os.path.realpath(\"__file__\"))\n\nplt.rc(\"text\", usetex=True)\nplt.rc(\"font\", family=\"serif\")"
      ]
    },
    {
      "cell_type": "markdown",
      "metadata": {},
      "source": [
        "The elastic-plastic (isotropic hardening) constitutive law implemented in Simcoon is a rate independent, isotropic, von Mises type material with power-law isotropic hardening.\nEight parameters are required for the thermomechanical version:\nThe parameters required are:\n\n1. The density $\\rho$\n2. The specific heat $c_p$\n3. The Young modulus $E$\n4. The Poisson ratio $\\nu$\n5. The coefficient of thermal expansion $\\alpha$\n6. The von Mises equivalent yield stress limit $\\sigma_{Y}$\n7. The hardening parameter $k$\n8. The hardening exponent $m$\n\nThe constitutive law is given by the set of equations\n\n\\begin{align}{\\sigma}_{ij} & = L_{ijkl}\\left({\\varepsilon}^{\\textrm{tot}}_{kl}-\\alpha_{kl}\\left(T-T^{\\textrm{ref}}\\right)-{\\varepsilon}^{\\textrm{p}}_{kl}\\right) \\\\\\\\\n  \\dot{\\varepsilon}^{\\textrm{p}}_{ij} & =\\dot{p}\\Lambda_{ij}, \\quad \\Lambda_{ij}=\\frac{3}{2}\\frac{\\sigma'_{ij}}{\\overline{\\sigma}}, \\quad \\sigma'_{ij}=\\sigma_{ij}-\\frac{1}{3}\\sigma_{kk}\\delta_{ij}, \\quad \\overline{\\sigma}=\\sqrt{\\frac{3}{2}\\sigma'_{kl}\\sigma'_{kl}}, \\\\\\\\\n  \\Phi & =\\overline{\\sigma}-\\sigma_{Y}-kp^m\\leq 0, \\quad \\dot{p}\\geq0,~~~ \\dot{p}~\\Phi=0\\end{align}\n\nwhere ${\\varepsilon}^{\\textrm{p}}_{ij}$ is the plastic strain tensor, $p$ is the plastic multiplier,\n$\\sigma'_{ij}$ is the deviatoric part of the stress and $\\overline{\\sigma}$ is the von Mises equivalent\nstress (Lemaitre and Chaboche, 2002). Moreover, $T^{\\textrm{ref}}$ is a reference temperature\n(usually the temperature at the beginning of the analysis).\n\nIn Simcoon the elastoplastic material constitutive law is implemented using a *return mapping algorithm*,\nwith use of the *convex cutting plane* algorithm (Simo and Hughes, 1998). The updated stress is provided for 1D,\nplane stress, and generalized plane strain/3D analysis according to the forms of elastic isotropic materials.\n\nThe updated work, and internal heat production $r$ are determined with the algorithm presented in the *simmit* documentation.\n\nAs a start we should input the name of the UMAT as well as the list of parameters\n\n"
      ]
    },
    {
      "cell_type": "code",
      "execution_count": null,
      "metadata": {
        "collapsed": false
      },
      "outputs": [],
      "source": [
        "umat_name = \"EPICP\"  # This is the 5 character code for the elastic-plastic subroutine\nnstatev = 8  # The number of scalar variables required, only the initial temperature is stored here\n\nE = 113800\nnu = 0.342\nalpha = 0.86e-5\nsigma_Y = 600\nH = 1600\nbeta = 0.25\n\npsi_rve = 0.0\ntheta_rve = 0.0\nphi_rve = 0.0\nsolver_type = 0\ncorate_type = 3\n\n# Define the properties\nprops = np.array([E, nu, alpha, sigma_Y, H, beta])\npath_data = \"data\"\npath_results = \"results\"\n\n# Run the simulation\npathfile = \"EPICP_path.txt\"\noutputfile = \"results_EPICP.txt\"\nsim.solver(\n    umat_name,\n    props,\n    nstatev,\n    psi_rve,\n    theta_rve,\n    phi_rve,\n    solver_type,\n    corate_type,\n    path_data,\n    path_results,\n    pathfile,\n    outputfile,\n)"
      ]
    },
    {
      "cell_type": "markdown",
      "metadata": {},
      "source": [
        "Plotting the results\n --------------------------------------\n This is it, now we just need to plot the results.\n In the left, we plot the stress vs strain curve, and in the right the different work terms vs time:\n - :meth:`Wm <simcoon.simmit.Wm>` the mechanical work,\n - :meth:`Wm_r <simcoon.simmit.Wm_r>` the recoverable mechanical work,\n - :meth:`Wm_ir <simcoon.simmit.Wm_ir>` the irrecoverable mechanical work,\n - :meth:`Wm_d <simcoon.simmit.Wm_d>` the dissipated mechanical work.\n##################################################################################\n\n"
      ]
    },
    {
      "cell_type": "code",
      "execution_count": null,
      "metadata": {
        "collapsed": false
      },
      "outputs": [],
      "source": [
        "# prepare the load\nfig = plt.figure()\noutputfile_global = \"results_EPICP_global-0.txt\"\npath = dir + \"/results/\"\nP_global = path + outputfile_global\n\n# Get the data\ne11, e22, e33, e12, e13, e23, s11, s22, s33, s12, s13, s23 = np.loadtxt(\n    P_global, usecols=(8, 9, 10, 11, 12, 13, 14, 15, 16, 17, 18, 19), unpack=True\n)\ntime, T, Q, r = np.loadtxt(P_global, usecols=(4, 5, 6, 7), unpack=True)\nWm, Wm_r, Wm_ir, Wm_d = np.loadtxt(P_global, usecols=(20, 21, 22, 23), unpack=True)\n\n# Plot the results\nax = fig.add_subplot(1, 2, 1)\nplt.grid(True)\nplt.tick_params(axis=\"both\", which=\"major\", labelsize=15)\nplt.xlabel(r\"Strain $\\varepsilon_{11}$\", size=15)\nplt.ylabel(r\"Stress $\\sigma_{11}$\\,(MPa)\", size=15)\nplt.plot(e11, s11, c=\"black\", label=\"direction 1\")\nplt.legend(loc=2)\n\nax = fig.add_subplot(1, 2, 2)\nplt.grid(True)\nplt.tick_params(axis=\"both\", which=\"major\", labelsize=15)\nplt.xlabel(\"time (s)\", size=15)\nplt.ylabel(r\"$W_m$\", size=15)\nplt.plot(time, Wm, c=\"black\", label=r\"$W_m$\")\nplt.plot(time, Wm_r, c=\"green\", label=r\"$W_m^r$\")\nplt.plot(time, Wm_ir, c=\"blue\", label=r\"$W_m^{ir}$\")\nplt.plot(time, Wm_d, c=\"red\", label=r\"$W_m^d$\")\nplt.legend(loc=2)\n\nplt.show()"
      ]
    },
    {
      "cell_type": "markdown",
      "metadata": {},
      "source": [
        "Here we test the increment size effect on the results\n ----------------------------------------------------------\n##################################################################################\n\n"
      ]
    },
    {
      "cell_type": "code",
      "execution_count": null,
      "metadata": {
        "collapsed": false
      },
      "outputs": [],
      "source": [
        "# Define increments and corresponding filenames\nincrements = [1, 10, 100, 1000]\noutputfile_globals = {}\n\nfor inc in increments:\n    pathfile = f\"EPICP_path_{inc}.txt\"\n    outputfile = f\"results_EPICP_{inc}.txt\"\n    sim.solver(\n        umat_name,\n        props,\n        nstatev,\n        psi_rve,\n        theta_rve,\n        phi_rve,\n        solver_type,\n        corate_type,\n        path_data,\n        path_results,\n        pathfile,\n        outputfile,\n    )\n    outputfile_globals[inc] = f\"results_EPICP_{inc}_global-0.txt\"\n\n# Prepare output file names and paths for each increment\noutputfile_globals = {inc: outputfile_globals[inc] for inc in increments}\npaths = [os.path.join(dir, \"results\", outputfile_globals[inc]) for inc in increments]\n\n# Load data for each increment into a list of dicts\ndata = []\nfor path in paths:\n    # Strain and stress components\n    e11, e22, e33, e12, e13, e23, s11, s22, s33, s12, s13, s23 = np.loadtxt(\n        path, usecols=range(8, 20), unpack=True\n    )\n    # Time and other variables\n    time, T, Q, r = np.loadtxt(path, usecols=range(4, 8), unpack=True)\n    Wm, Wm_r, Wm_ir, Wm_d = np.loadtxt(path, usecols=range(20, 24), unpack=True)\n    data.append(\n        {\n            \"e11\": e11,\n            \"s11\": s11,\n            \"time\": time,\n            \"Wm\": Wm,\n            \"Wm_r\": Wm_r,\n            \"Wm_ir\": Wm_ir,\n            \"Wm_d\": Wm_d,\n        }\n    )"
      ]
    },
    {
      "cell_type": "markdown",
      "metadata": {},
      "source": [
        "Plotting the results\n --------------------------------------\n\n In the left, we plot the stress vs strain curve, and in the right the different work terms vs time\n Note the [\"D\", \"o\", \"x\", None] markers used to differentiate the different increment sizes:\n [\"1 increment\", \"10 increments\", \"100 increments\", \"1000 increments\"]\n\n##################################################################################\n\n"
      ]
    },
    {
      "cell_type": "code",
      "execution_count": null,
      "metadata": {
        "collapsed": false
      },
      "outputs": [],
      "source": [
        "fig = plt.figure()\n\nmarkers = [\"D\", \"o\", \"x\", None]\nlabels = [\"1 increment\", \"10 increments\", \"100 increments\", \"1000 increments\"]\ncolors = [\"black\", \"black\", \"black\", \"black\"]\n\n# First subplot: Stress vs Strain\nax1 = fig.add_subplot(1, 2, 1)\nplt.grid(True)\nplt.tick_params(axis=\"both\", which=\"major\", labelsize=15)\nplt.xlabel(r\"Strain $\\varepsilon_{11}$\", size=15)\nplt.ylabel(r\"Stress $\\sigma_{11}$\\,(MPa)\", size=15)\n\nfor i, d in enumerate(data):\n    if markers[i] is not None:\n        plt.plot(\n            d[\"e11\"],\n            d[\"s11\"],\n            linestyle=\"None\",\n            marker=markers[i],\n            color=colors[i],\n            markersize=10,\n            label=labels[i],\n        )\n    else:\n        plt.plot(d[\"e11\"], d[\"s11\"], c=colors[i], label=labels[i])\nplt.legend(loc=2)\n\n# Second subplot: Work terms vs Time\nax2 = fig.add_subplot(1, 2, 2)\nplt.grid(True)\nplt.tick_params(axis=\"both\", which=\"major\", labelsize=15)\nplt.xlabel(\"time (s)\", size=15)\nplt.ylabel(r\"$W_m$\", size=15)\n\nwork_colors = [\"black\", \"green\", \"blue\", \"red\"]\nwork_keys = [\"Wm\", \"Wm_r\", \"Wm_ir\", \"Wm_d\"]\nwork_labels = [r\"$W_m$\", r\"$W_m^r$\", r\"$W_m^{ir}$\", r\"$W_m^d$\"]\n\nfor i, d in enumerate(data):\n    for j, (wk, wc, wl) in enumerate(zip(work_keys, work_colors, work_labels)):\n        if markers[i] is not None:\n            plt.plot(\n                d[\"time\"],\n                d[wk],\n                linestyle=\"None\",\n                marker=markers[i],\n                color=wc,\n                markersize=10,\n                label=wl if i == len(data) - 1 else None,  # Only label once\n            )\n        else:\n            plt.plot(d[\"time\"], d[wk], c=wc, label=wl)\nplt.legend(loc=2)\n\nplt.show()\n#"
      ]
    }
  ],
  "metadata": {
    "kernelspec": {
      "display_name": "Python 3",
      "language": "python",
      "name": "python3"
    },
    "language_info": {
      "codemirror_mode": {
        "name": "ipython",
        "version": 3
      },
      "file_extension": ".py",
      "mimetype": "text/x-python",
      "name": "python",
      "nbconvert_exporter": "python",
      "pygments_lexer": "ipython3",
      "version": "3.12.12"
    }
  },
  "nbformat": 4,
  "nbformat_minor": 0
}
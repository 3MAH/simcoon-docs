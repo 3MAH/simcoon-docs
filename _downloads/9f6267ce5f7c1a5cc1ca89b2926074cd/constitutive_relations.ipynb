{
  "cells": [
    {
      "cell_type": "markdown",
      "metadata": {},
      "source": [
        "\n# Constitutive Library Examples\n"
      ]
    },
    {
      "cell_type": "code",
      "execution_count": null,
      "metadata": {
        "collapsed": false
      },
      "outputs": [],
      "source": [
        "# sphinx_gallery_thumbnail_path = 'images/thumb/sphx_glr_constitutive_relations_thumb.png'"
      ]
    },
    {
      "cell_type": "markdown",
      "metadata": {},
      "source": [
        "This example demonstrates how to compute isotropic, cubic, transverse isotropic,\nand orthotropic stiffness and compliance tensors using Simcoon.\nIt also shows how to check symmetries and extract properties from each tensor.\n\n"
      ]
    },
    {
      "cell_type": "code",
      "execution_count": null,
      "metadata": {
        "collapsed": false
      },
      "outputs": [],
      "source": [
        "import numpy as np\nimport matplotlib.pyplot as plt\nfrom simcoon import simmit as sim"
      ]
    },
    {
      "cell_type": "markdown",
      "metadata": {},
      "source": [
        "## L_iso\nProvides the elastic stiffness tensor for an isotropic material.\nThe two first arguments are a couple of elastic properties.\nThe third argument specifies which couple has been provided.\nReturns a NumPy ndarray.\n\n"
      ]
    },
    {
      "cell_type": "code",
      "execution_count": null,
      "metadata": {
        "collapsed": false
      },
      "outputs": [],
      "source": [
        "E = 70000.0\nnu = 0.3\nL = sim.L_iso([E, nu], \"Enu\")\nprint(\"L_iso:\\n\", np.array_str(L, precision=2, suppress_small=True))\n\nd = sim.check_symetries(L, 1.0e-2)\nprint(\"Symmetry type:\", d[\"umat_type\"])\nprint(\"Properties:\", d[\"props\"])\n\nx = sim.L_iso_props(L)\nprint(\"L_iso_props:\", x)"
      ]
    },
    {
      "cell_type": "markdown",
      "metadata": {},
      "source": [
        "## M_iso\nProvides the elastic compliance tensor for an isotropic material.\nThe two first arguments are a couple of elastic properties.\nThe third argument specifies which couple has been provided.\nReturns a NumPy ndarray.\n\n"
      ]
    },
    {
      "cell_type": "code",
      "execution_count": null,
      "metadata": {
        "collapsed": false
      },
      "outputs": [],
      "source": [
        "M = sim.M_iso([E, nu], \"Enu\")\nprint(\"M_iso:\\n\", np.array_str(M, suppress_small=True))\n\nL_inv = np.linalg.inv(M)\nd = sim.check_symetries(L_inv, 1.0e-2)\nprint(\"Symmetry type:\", d[\"umat_type\"])\nprint(\"Properties:\", d[\"props\"])\n\nx = sim.M_iso_props(M)\nprint(\"M_iso_props:\", x)"
      ]
    },
    {
      "cell_type": "markdown",
      "metadata": {},
      "source": [
        "## L_cubic\nProvides the elastic stiffness tensor for a cubic material.\nArguments are the stiffness coefficients C11, C12, C44, or elastic constants E, nu, G.\n\n"
      ]
    },
    {
      "cell_type": "code",
      "execution_count": null,
      "metadata": {
        "collapsed": false
      },
      "outputs": [],
      "source": [
        "G = 23000.0\nL = sim.L_cubic([E, nu, G], \"EnuG\")\nprint(\"L_cubic:\\n\", np.array_str(L, precision=2, suppress_small=True))\n\nd = sim.check_symetries(L, 1.0e-2)\nprint(\"Symmetry type:\", d[\"umat_type\"])\nprint(\"Properties:\", d[\"props\"])\n\nx = sim.L_cubic_props(L)\nprint(\"L_cubic_props:\", x)"
      ]
    },
    {
      "cell_type": "markdown",
      "metadata": {},
      "source": [
        "## M_cubic\nProvides the elastic compliance tensor for a cubic material.\nArguments are the stiffness coefficients C11, C12, C44, or elastic constants E, nu, G.\n\n"
      ]
    },
    {
      "cell_type": "code",
      "execution_count": null,
      "metadata": {
        "collapsed": false
      },
      "outputs": [],
      "source": [
        "M = sim.M_cubic([E, nu, G], \"EnuG\")\nprint(\"M_cubic:\\n\", np.array_str(M, suppress_small=True))\n\nL = np.linalg.inv(M)\nd = sim.check_symetries(L, 1.0e-2)\nprint(\"Symmetry type:\", d[\"umat_type\"])\nprint(\"Properties:\", d[\"props\"])\n\nx = sim.M_cubic_props(M)\nprint(\"M_cubic_props:\", x)"
      ]
    },
    {
      "cell_type": "markdown",
      "metadata": {},
      "source": [
        "## L_isotrans\nProvides the elastic stiffness tensor for a transverse isotropic material.\nArguments: longitudinal modulus EL, transverse modulus ET, Poisson ratios nuTL, nuTT,\nshear modulus GLT, and axis of symmetry.\n\n"
      ]
    },
    {
      "cell_type": "code",
      "execution_count": null,
      "metadata": {
        "collapsed": false
      },
      "outputs": [],
      "source": [
        "EL = 70000.0\nET = 20000.0\nnuTL = 0.08\nnuTT = 0.3\nGLT = 12000.0\naxis = 3\n\nL = sim.L_isotrans([EL, ET, nuTL, nuTT, GLT], axis)\nprint(\"L_isotrans:\\n\", np.array_str(L, precision=2, suppress_small=True))\n\nd = sim.check_symetries(L, 1.0e-2)\nprint(\"Symmetry type:\", d[\"umat_type\"])\nprint(\"Axis:\", d[\"axis\"])\nprint(\"Properties:\", np.array_str(d[\"props\"], precision=2))\n\nx = sim.L_isotrans_props(L, axis)\nprint(\"L_isotrans_props:\", np.array_str(x, precision=2))"
      ]
    },
    {
      "cell_type": "markdown",
      "metadata": {},
      "source": [
        "## M_isotrans\nProvides the elastic compliance tensor for a transverse isotropic material.\n\n"
      ]
    },
    {
      "cell_type": "code",
      "execution_count": null,
      "metadata": {
        "collapsed": false
      },
      "outputs": [],
      "source": [
        "M = sim.M_isotrans([EL, ET, nuTL, nuTT, GLT], axis)\nprint(\"M_isotrans:\\n\", np.array_str(M, suppress_small=True))\n\nx = sim.M_isotrans_props(M, axis)\nprint(\"M_isotrans_props:\", np.array_str(x, precision=2))"
      ]
    },
    {
      "cell_type": "markdown",
      "metadata": {},
      "source": [
        "## L_ortho\nProvides the elastic stiffness tensor for an orthotropic material.\nArguments: Young moduli E1, E2, E3; Poisson ratios nu12, nu13, nu23;\nshear moduli G12, G13, G23; or alternatively the list of Cii coefficients.\n\n"
      ]
    },
    {
      "cell_type": "code",
      "execution_count": null,
      "metadata": {
        "collapsed": false
      },
      "outputs": [],
      "source": [
        "E_1, E_2, E_3 = 4500.0, 2300.0, 2700.0\nnu_12, nu_13, nu_23 = 0.06, 0.08, 0.3\nG_12, G_13, G_23 = 2200.0, 2100.0, 2400.0\n\nL = sim.L_ortho([E_1, E_2, E_3, nu_12, nu_13, nu_23, G_12, G_13, G_23], \"EnuG\")\nprint(\"L_ortho:\\n\", np.array_str(L, precision=2, suppress_small=True))\n\nd = sim.check_symetries(L, 1.0e-2)\nprint(\"Symmetry type:\", d[\"umat_type\"])\nprint(\"Axis:\", d[\"axis\"])\nprint(\"Properties:\", np.array_str(d[\"props\"], precision=2))\n\nx = sim.L_ortho_props(L)\nprint(\"L_ortho_props:\", np.array_str(x, precision=2, suppress_small=True))"
      ]
    },
    {
      "cell_type": "markdown",
      "metadata": {},
      "source": [
        "## M_ortho\nProvides the elastic compliance tensor for an orthotropic material.\n\n"
      ]
    },
    {
      "cell_type": "code",
      "execution_count": null,
      "metadata": {
        "collapsed": false
      },
      "outputs": [],
      "source": [
        "M = sim.M_ortho([E_1, E_2, E_3, nu_12, nu_13, nu_23, G_12, G_13, G_23], \"EnuG\")\nprint(\"M_ortho:\\n\", np.array_str(M, suppress_small=True))\n\nx = sim.M_ortho_props(M)\nprint(\"M_ortho_props:\", np.array_str(x, precision=4, suppress_small=True))"
      ]
    }
  ],
  "metadata": {
    "kernelspec": {
      "display_name": "Python 3",
      "language": "python",
      "name": "python3"
    },
    "language_info": {
      "codemirror_mode": {
        "name": "ipython",
        "version": 3
      },
      "file_extension": ".py",
      "mimetype": "text/x-python",
      "name": "python",
      "nbconvert_exporter": "python",
      "pygments_lexer": "ipython3",
      "version": "3.12.12"
    }
  },
  "nbformat": 4,
  "nbformat_minor": 0
}
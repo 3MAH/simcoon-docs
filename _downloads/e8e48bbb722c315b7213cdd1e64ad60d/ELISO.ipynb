{
  "cells": [
    {
      "cell_type": "markdown",
      "metadata": {},
      "source": [
        "\n# Isotropic elasticity examples\n"
      ]
    },
    {
      "cell_type": "code",
      "execution_count": null,
      "metadata": {
        "collapsed": false
      },
      "outputs": [],
      "source": [
        "import numpy as np\nfrom simcoon import simmit as sim\nimport matplotlib.pyplot as plt\nimport os"
      ]
    },
    {
      "cell_type": "markdown",
      "metadata": {},
      "source": [
        "In thermoelastic isotropic materials three parameters are required:\n\n1. The Young modulus $E$,\n2. The Poisson ratio $\\nu$,\n3. The coefficient of thermal expansion $\\alpha$.\n\nThe elastic stiffness tensor and the thermal expansion coefficients tensor are written in the Voigt notation formalism as\n\n\\begin{align}\\mathbf{L} = \\begin{pmatrix}\n       L_{1111} & L_{1122} & L_{1122} & 0 & 0 & 0 \\\\\n       L_{1122} & L_{1111} & L_{1122} & 0 & 0 & 0 \\\\\n       L_{1122} & L_{1122} & L_{1111} & 0 & 0 & 0 \\\\\n       0 & 0 & 0 & L_{1212} & 0 & 0 \\\\\n       0 & 0 & 0 & 0 & L_{1212} & 0 \\\\\n       0 & 0 & 0 & 0 & 0 & L_{1212}\n   \\end{pmatrix},\n   \\quad\n   \\boldsymbol{\\alpha} = \\begin{pmatrix}\n       \\alpha & 0 & 0 \\\\\n       0 & \\alpha & 0 \\\\\n       0 & 0 & \\alpha\n   \\end{pmatrix}\\end{align}\n\nwith\n\n\\begin{align}L_{1111} = \\frac{E(1-\\nu)}{(1+\\nu)(1-2\\nu)}, \\quad\n   L_{1122} = \\frac{E\\nu}{(1+\\nu)(1-2\\nu)}, \\quad\n   L_{1212} = \\frac{E}{2(1+\\nu)}.\\end{align}\n\nThe tangent stiffness tensor in this case is $\\mathbf{L}^t = \\mathbf{L}$.\nMoreover, the increment of the elastic strain is given by\n\n\\begin{align}\\Delta\\varepsilon^{\\mathrm{el}}_{ij} = \\Delta\\varepsilon^{\\mathrm{tot}}_{ij} - \\alpha \\Delta T \\delta_{ij},\\end{align}\n\nwhere $\\delta_{ij}$ implies the Kronecker delta operator.\nIn the 1D case only one component of stress is computed, through the relation\n\n\\begin{align}\\sigma^{\\mathrm{fin}}_{11} = \\sigma^{\\mathrm{init}}_{11} + E \\Delta\\varepsilon^{\\mathrm{el}}_{11}.\\end{align}\n\nIn the plane stress case only three components of stress are computed, through the relations\n\n\\begin{align}\\begin{pmatrix}\n       \\sigma^{\\mathrm{fin}}_{11} \\\\\n       \\sigma^{\\mathrm{fin}}_{22} \\\\\n       \\sigma^{\\mathrm{fin}}_{12}\n   \\end{pmatrix}\n   =\n   \\begin{pmatrix}\n       \\sigma^{\\mathrm{init}}_{11} \\\\\n       \\sigma^{\\mathrm{init}}_{22} \\\\\n       \\sigma^{\\mathrm{init}}_{12}\n   \\end{pmatrix}\n   +\n   \\frac{E}{1-\\nu^2}\n   \\begin{pmatrix}\n       1 & \\nu & 0 \\\\\n       \\nu & 1 & 0 \\\\\n       0 & 0 & \\frac{1-\\nu}{2}\n   \\end{pmatrix}\n   \\begin{pmatrix}\n       \\Delta\\varepsilon^{\\mathrm{el}}_{11} \\\\\n       \\Delta\\varepsilon^{\\mathrm{el}}_{22} \\\\\n       2\\Delta\\varepsilon^{\\mathrm{el}}_{12}\n   \\end{pmatrix}\\end{align}\n\nIn the generalized plane strain/3D analysis case the stress tensor is computed through the relation\n\n\\begin{align}\\sigma^{\\mathrm{fin}}_{ij} = \\sigma^{\\mathrm{init}}_{ij} + L_{ijkl}~\\Delta\\varepsilon^{\\mathrm{el}}_{kl}.\\end{align}\n\n"
      ]
    },
    {
      "cell_type": "code",
      "execution_count": null,
      "metadata": {
        "collapsed": false
      },
      "outputs": [],
      "source": [
        "umat_name = \"ELISO\"  # This is the 5 character code for the elastic-isotropic subroutine\nnstatev = 1  # The number of scalar variables required, only the initial temperature is stored here\n\nE = 700000.0\nnu = 0.2\nalpha = 1.0e-5\n\npsi_rve = 0.0\ntheta_rve = 0.0\nphi_rve = 0.0\nsolver_type = 0\ncorate_type = 2\n\nprops = np.array([E, nu, alpha])\n\npath_data = \"data\"\npath_results = \"results\"\npathfile = \"ELISO_path.txt\"\noutputfile = \"results_ELISO.txt\"\n\nsim.solver(\n    umat_name,\n    props,\n    nstatev,\n    psi_rve,\n    theta_rve,\n    phi_rve,\n    solver_type,\n    corate_type,\n    path_data,\n    path_results,\n    pathfile,\n    outputfile,\n)\n\noutputfile_macro = os.path.join(path_results, \"results_ELISO_global-0.txt\")\n\nfig = plt.figure()\n\ne11, e22, e33, e12, e13, e23, s11, s22, s33, s12, s13, s23 = np.loadtxt(\n    outputfile_macro,\n    usecols=(8, 9, 10, 11, 12, 13, 14, 15, 16, 17, 18, 19),\n    unpack=True,\n)\n\nplt.grid(True)\n\nplt.plot(e11, s11, c=\"blue\")\nplt.xlabel(\"Strain\")\nplt.ylabel(\"Stress (MPa)\")\n\nplt.show()"
      ]
    }
  ],
  "metadata": {
    "kernelspec": {
      "display_name": "Python 3",
      "language": "python",
      "name": "python3"
    },
    "language_info": {
      "codemirror_mode": {
        "name": "ipython",
        "version": 3
      },
      "file_extension": ".py",
      "mimetype": "text/x-python",
      "name": "python",
      "nbconvert_exporter": "python",
      "pygments_lexer": "ipython3",
      "version": "3.12.12"
    }
  },
  "nbformat": 4,
  "nbformat_minor": 0
}